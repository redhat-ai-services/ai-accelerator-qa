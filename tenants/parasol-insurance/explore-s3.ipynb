{
 "cells": [
  {
   "cell_type": "code",
   "execution_count": null,
   "id": "30ddc903-0fd9-4d62-a633-0b61bd4fd9ed",
   "metadata": {},
   "outputs": [],
   "source": [
    "!pip install boto3 ultralytics"
   ]
  },
  {
   "cell_type": "code",
   "execution_count": null,
   "id": "565886d0-65dc-4734-9cf0-2bf8c8c6fafa",
   "metadata": {},
   "outputs": [],
   "source": [
    "import os\n",
    "import boto3\n",
    "from botocore.client import Config\n",
    "\n",
    "# Configuration\n",
    "#minio_url = os.environ[\"AWS_S3_ENDPOINT\"]\n",
    "minio_url = \"https://minio-api-object-datastore.apps.cluster-q7fgr.q7fgr.sandbox2566.opentlc.com\"\n",
    "#access_key = os.environ[\"AWS_ACCESS_KEY_ID\"]\n",
    "#secret_key = os.environ[\"AWS_SECRET_ACCESS_KEY\"]\n",
    "access_key = \"minio\"\n",
    "secret_key = \"minio123\"\n",
    "\n",
    "# Setting up the MinIO client\n",
    "s3 = boto3.client(\n",
    "    's3',\n",
    "    endpoint_url=minio_url,\n",
    "    aws_access_key_id=access_key,\n",
    "    aws_secret_access_key=secret_key,\n",
    "    config=Config(signature_version='s3v4'),\n",
    ")"
   ]
  },
  {
   "cell_type": "code",
   "execution_count": null,
   "id": "224b6820-b0ae-48d2-a3d2-42585f3fe252",
   "metadata": {},
   "outputs": [],
   "source": [
    "# Function to get MinIO server info\n",
    "def get_minio_buckets():\n",
    "    # This function retrieves the list of buckets as an example.\n",
    "    # MinIO admin info is not directly supported by boto3; you'd need to use MinIO's admin API.\n",
    "    response = s3.list_buckets()\n",
    "    print(\"Buckets:\")\n",
    "    for bucket in response['Buckets']:\n",
    "        print(f'  {bucket[\"Name\"]}')\n",
    "\n",
    "get_minio_buckets()"
   ]
  },
  {
   "cell_type": "code",
   "execution_count": null,
   "id": "08eab297-94b9-4340-9927-a0514d3f6724",
   "metadata": {},
   "outputs": [],
   "source": [
    "# Function to create a bucket\n",
    "def create_minio_bucket(bucket_name):\n",
    "    try:\n",
    "        s3.create_bucket(Bucket=bucket_name)\n",
    "        print(f\"Bucket '{bucket_name}' successfully created.\")\n",
    "    except Exception as e:\n",
    "        print(f\"Error creating bucket '{bucket_name}': {e}\")"
   ]
  },
  {
   "cell_type": "code",
   "execution_count": null,
   "id": "2ca8e0b6-8b4a-4f11-8b35-93a1d3aa85b5",
   "metadata": {},
   "outputs": [],
   "source": [
    "create_minio_bucket('models')\n",
    "create_minio_bucket('pipelines')\n",
    "get_minio_buckets()"
   ]
  },
  {
   "cell_type": "code",
   "execution_count": null,
   "id": "2026b3eb-d677-47b9-85ed-3e4981dd2822",
   "metadata": {},
   "outputs": [],
   "source": [
    "# Function to upload a file to a bucket\n",
    "def upload_file(file_path, bucket_name, object_name):\n",
    "    try:\n",
    "        s3.upload_file(file_path, bucket_name, object_name)\n",
    "        print(f\"File '{file_path}' successfully uploaded to bucket '{bucket_name}' as '{object_name}'.\")\n",
    "    except Exception as e:\n",
    "        print(f\"Error uploading file '{file_path}' to bucket '{bucket_name}': {e}\")"
   ]
  },
  {
   "cell_type": "code",
   "execution_count": null,
   "id": "6f76370a-6204-4989-98f7-5eec382e8360",
   "metadata": {},
   "outputs": [],
   "source": [
    "# Download the model\n",
    "from ultralytics import YOLO\n",
    "model = YOLO(\"https://rhods-public.s3.amazonaws.com/demo-models/ic-models/accident/accident_detect.onnx\", task=\"detect\")\n",
    "# Upload the file\n",
    "upload_file('accident_detect.onnx', 'models', 'accident_model/accident_detect.onnx')"
   ]
  },
  {
   "cell_type": "code",
   "execution_count": null,
   "id": "6b2a9103-9bc0-4f0a-80a9-74f970f629b1",
   "metadata": {},
   "outputs": [],
   "source": [
    "# Function to get the content in the bucket\n",
    "def get_minio_content(bucket):\n",
    "    # This function retrieves the content in the bucket\n",
    "    # MinIO admin info is not directly supported by boto3; you'd need to use MinIO's admin API.\n",
    "    print(\"Content:\")\n",
    "    for key in s3.list_objects(Bucket=bucket)['Contents']:\n",
    "        print(f'  {key[\"Key\"]}')"
   ]
  },
  {
   "cell_type": "code",
   "execution_count": null,
   "id": "45270293-bf70-426f-b21a-b5995b3497da",
   "metadata": {},
   "outputs": [],
   "source": [
    "get_minio_content('models')"
   ]
  },
  {
   "cell_type": "code",
   "execution_count": null,
   "id": "0358705b-0b46-40c8-b8f2-453ec6923a5b",
   "metadata": {},
   "outputs": [],
   "source": []
  },
  {
   "cell_type": "code",
   "execution_count": null,
   "id": "b0925a02-5df4-4198-9645-55e063a37920",
   "metadata": {},
   "outputs": [],
   "source": []
  }
 ],
 "metadata": {
  "kernelspec": {
   "display_name": "Python 3 (ipykernel)",
   "language": "python",
   "name": "python3"
  },
  "language_info": {
   "codemirror_mode": {
    "name": "ipython",
    "version": 3
   },
   "file_extension": ".py",
   "mimetype": "text/x-python",
   "name": "python",
   "nbconvert_exporter": "python",
   "pygments_lexer": "ipython3",
   "version": "3.11.9"
  }
 },
 "nbformat": 4,
 "nbformat_minor": 5
}
